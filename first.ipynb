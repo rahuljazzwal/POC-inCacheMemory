{
 "cells": [
  {
   "cell_type": "code",
   "execution_count": 3,
   "metadata": {},
   "outputs": [],
   "source": [
    "import random\n",
    "import string\n",
    "import numpy as np\n",
    "import pandas as pd\n",
    "import pyarrow as pa\n",
    "import pyarrow.csv as csv\n",
    "from datetime import datetime\n",
    "from functools import lru_cache"
   ]
  },
  {
   "cell_type": "code",
   "execution_count": 4,
   "metadata": {},
   "outputs": [],
   "source": [
    "def gen_random_string(length: int= 32)-> str:\n",
    "    return ''.join(random.choices(string.ascii_uppercase + string.digits, k=length))"
   ]
  },
  {
   "cell_type": "code",
   "execution_count": 6,
   "metadata": {},
   "outputs": [
    {
     "data": {
      "text/plain": [
       "'H1RFBD7BJSOG27QL4Y3YGF9A0NRBTYJG'"
      ]
     },
     "execution_count": 6,
     "metadata": {},
     "output_type": "execute_result"
    }
   ],
   "source": [
    "gen_random_string()"
   ]
  },
  {
   "cell_type": "code",
   "execution_count": 7,
   "metadata": {},
   "outputs": [
    {
     "data": {
      "text/plain": [
       "'QLS4F1Y4NR9OBCT0X0B3UKE87D3Z0WK2'"
      ]
     },
     "execution_count": 7,
     "metadata": {},
     "output_type": "execute_result"
    }
   ],
   "source": [
    "gen_random_string()"
   ]
  },
  {
   "cell_type": "code",
   "execution_count": 51,
   "metadata": {},
   "outputs": [],
   "source": [
    "dt=pd.date_range(start=datetime(2019, 1, 1), end=datetime(2022, 4 , 20), freq='min')"
   ]
  },
  {
   "cell_type": "code",
   "execution_count": 52,
   "metadata": {},
   "outputs": [],
   "source": [
    "np.random.seed=42\n",
    "df_size = len(dt)"
   ]
  },
  {
   "cell_type": "code",
   "execution_count": 53,
   "metadata": {},
   "outputs": [
    {
     "name": "stdout",
     "output_type": "stream",
     "text": [
      "Wall time: 1min 1s\n"
     ]
    }
   ],
   "source": [
    "%%time\n",
    "df=pd.DataFrame({\n",
    "    'date':dt,\n",
    "    'a':np.random.rand(df_size),\n",
    "    'b':np.random.rand(df_size),\n",
    "    'c':np.random.rand(df_size),\n",
    "    'd':np.random.rand(df_size),\n",
    "    'e':np.random.rand(df_size),\n",
    "    'str1':[gen_random_string() for x in range(df_size)],\n",
    "    'str2':[gen_random_string() for x in range(df_size)]\n",
    "})"
   ]
  },
  {
   "cell_type": "code",
   "execution_count": 54,
   "metadata": {},
   "outputs": [
    {
     "data": {
      "text/plain": [
       "(1735201, 8)"
      ]
     },
     "execution_count": 54,
     "metadata": {},
     "output_type": "execute_result"
    }
   ],
   "source": [
    "df.shape"
   ]
  },
  {
   "cell_type": "code",
   "execution_count": 55,
   "metadata": {},
   "outputs": [
    {
     "data": {
      "text/html": [
       "<div>\n",
       "<style scoped>\n",
       "    .dataframe tbody tr th:only-of-type {\n",
       "        vertical-align: middle;\n",
       "    }\n",
       "\n",
       "    .dataframe tbody tr th {\n",
       "        vertical-align: top;\n",
       "    }\n",
       "\n",
       "    .dataframe thead th {\n",
       "        text-align: right;\n",
       "    }\n",
       "</style>\n",
       "<table border=\"1\" class=\"dataframe\">\n",
       "  <thead>\n",
       "    <tr style=\"text-align: right;\">\n",
       "      <th></th>\n",
       "      <th>date</th>\n",
       "      <th>a</th>\n",
       "      <th>b</th>\n",
       "      <th>c</th>\n",
       "      <th>d</th>\n",
       "      <th>e</th>\n",
       "      <th>str1</th>\n",
       "      <th>str2</th>\n",
       "    </tr>\n",
       "  </thead>\n",
       "  <tbody>\n",
       "    <tr>\n",
       "      <th>0</th>\n",
       "      <td>2019-01-01 00:00:00</td>\n",
       "      <td>0.021719</td>\n",
       "      <td>0.789401</td>\n",
       "      <td>0.996341</td>\n",
       "      <td>0.200924</td>\n",
       "      <td>0.516212</td>\n",
       "      <td>X0Z3ISVP38V3DZNYRCERWA8V3RXJ61EM</td>\n",
       "      <td>PPB1TRP11N2XAYG4UZOQ0W38IEO7AQB6</td>\n",
       "    </tr>\n",
       "    <tr>\n",
       "      <th>1</th>\n",
       "      <td>2019-01-01 00:01:00</td>\n",
       "      <td>0.860443</td>\n",
       "      <td>0.769696</td>\n",
       "      <td>0.365889</td>\n",
       "      <td>0.331651</td>\n",
       "      <td>0.459428</td>\n",
       "      <td>K5KENXUIG7AMG0IJWDSVKK0TGJBAPXKS</td>\n",
       "      <td>JAEDXZVT1HCM4GJIT3N2PD3AJWZ113W9</td>\n",
       "    </tr>\n",
       "    <tr>\n",
       "      <th>2</th>\n",
       "      <td>2019-01-01 00:02:00</td>\n",
       "      <td>0.548508</td>\n",
       "      <td>0.612747</td>\n",
       "      <td>0.640164</td>\n",
       "      <td>0.839859</td>\n",
       "      <td>0.306226</td>\n",
       "      <td>G2OM7MRASVNJVSLSTMR4MY00QWA85YD1</td>\n",
       "      <td>SGGPHQUY70NI8FABBUZQNGXTOEXNARXQ</td>\n",
       "    </tr>\n",
       "    <tr>\n",
       "      <th>3</th>\n",
       "      <td>2019-01-01 00:03:00</td>\n",
       "      <td>0.890642</td>\n",
       "      <td>0.209416</td>\n",
       "      <td>0.599862</td>\n",
       "      <td>0.600903</td>\n",
       "      <td>0.428214</td>\n",
       "      <td>HRIEMQBHE1TQK0Z0QV8I1V418ZNSACCX</td>\n",
       "      <td>BIYQKWBN8K0IKPDAE6SY8DU5AB8WMXPH</td>\n",
       "    </tr>\n",
       "    <tr>\n",
       "      <th>4</th>\n",
       "      <td>2019-01-01 00:04:00</td>\n",
       "      <td>0.969293</td>\n",
       "      <td>0.456791</td>\n",
       "      <td>0.757094</td>\n",
       "      <td>0.338912</td>\n",
       "      <td>0.702087</td>\n",
       "      <td>WOPCVZFZ2HE3Z26OY58NEKMP1HV22LOX</td>\n",
       "      <td>F8MEH2JHMTDRS3QP1CGBXZ7KURC2N19F</td>\n",
       "    </tr>\n",
       "  </tbody>\n",
       "</table>\n",
       "</div>"
      ],
      "text/plain": [
       "                 date         a         b         c         d         e  \\\n",
       "0 2019-01-01 00:00:00  0.021719  0.789401  0.996341  0.200924  0.516212   \n",
       "1 2019-01-01 00:01:00  0.860443  0.769696  0.365889  0.331651  0.459428   \n",
       "2 2019-01-01 00:02:00  0.548508  0.612747  0.640164  0.839859  0.306226   \n",
       "3 2019-01-01 00:03:00  0.890642  0.209416  0.599862  0.600903  0.428214   \n",
       "4 2019-01-01 00:04:00  0.969293  0.456791  0.757094  0.338912  0.702087   \n",
       "\n",
       "                               str1                              str2  \n",
       "0  X0Z3ISVP38V3DZNYRCERWA8V3RXJ61EM  PPB1TRP11N2XAYG4UZOQ0W38IEO7AQB6  \n",
       "1  K5KENXUIG7AMG0IJWDSVKK0TGJBAPXKS  JAEDXZVT1HCM4GJIT3N2PD3AJWZ113W9  \n",
       "2  G2OM7MRASVNJVSLSTMR4MY00QWA85YD1  SGGPHQUY70NI8FABBUZQNGXTOEXNARXQ  \n",
       "3  HRIEMQBHE1TQK0Z0QV8I1V418ZNSACCX  BIYQKWBN8K0IKPDAE6SY8DU5AB8WMXPH  \n",
       "4  WOPCVZFZ2HE3Z26OY58NEKMP1HV22LOX  F8MEH2JHMTDRS3QP1CGBXZ7KURC2N19F  "
      ]
     },
     "execution_count": 55,
     "metadata": {},
     "output_type": "execute_result"
    }
   ],
   "source": [
    "df.head()"
   ]
  },
  {
   "cell_type": "code",
   "execution_count": 56,
   "metadata": {},
   "outputs": [
    {
     "name": "stdout",
     "output_type": "stream",
     "text": [
      "Wall time: 42.5 s\n"
     ]
    }
   ],
   "source": [
    "%%time\n",
    "df.to_csv('csv_pandas.csv', index=False)"
   ]
  },
  {
   "cell_type": "code",
   "execution_count": 57,
   "metadata": {},
   "outputs": [
    {
     "name": "stdout",
     "output_type": "stream",
     "text": [
      "Wall time: 1min 40s\n"
     ]
    }
   ],
   "source": [
    "%%time\n",
    "\n",
    "df.to_csv('csv_pandas.csv.gz', index=False, compression='gzip')"
   ]
  },
  {
   "cell_type": "code",
   "execution_count": 58,
   "metadata": {},
   "outputs": [
    {
     "name": "stdout",
     "output_type": "stream",
     "text": [
      "Wall time: 20 s\n"
     ]
    }
   ],
   "source": [
    "%%time\n",
    "\n",
    "df1=pd.read_csv('csv_pandas.csv')"
   ]
  },
  {
   "cell_type": "code",
   "execution_count": 59,
   "metadata": {},
   "outputs": [
    {
     "name": "stdout",
     "output_type": "stream",
     "text": [
      "Wall time: 13.8 s\n"
     ]
    }
   ],
   "source": [
    "%%time\n",
    "\n",
    "df2=pd.read_csv('csv_pandas.csv.gz')"
   ]
  },
  {
   "cell_type": "code",
   "execution_count": 60,
   "metadata": {},
   "outputs": [],
   "source": [
    "df_pa=df.copy()\n",
    "df_pa['date']=df_pa['date'].values.astype(np.int64) // 10 ** 9"
   ]
  },
  {
   "cell_type": "code",
   "execution_count": 61,
   "metadata": {},
   "outputs": [
    {
     "data": {
      "text/html": [
       "<div>\n",
       "<style scoped>\n",
       "    .dataframe tbody tr th:only-of-type {\n",
       "        vertical-align: middle;\n",
       "    }\n",
       "\n",
       "    .dataframe tbody tr th {\n",
       "        vertical-align: top;\n",
       "    }\n",
       "\n",
       "    .dataframe thead th {\n",
       "        text-align: right;\n",
       "    }\n",
       "</style>\n",
       "<table border=\"1\" class=\"dataframe\">\n",
       "  <thead>\n",
       "    <tr style=\"text-align: right;\">\n",
       "      <th></th>\n",
       "      <th>date</th>\n",
       "      <th>a</th>\n",
       "      <th>b</th>\n",
       "      <th>c</th>\n",
       "      <th>d</th>\n",
       "      <th>e</th>\n",
       "      <th>str1</th>\n",
       "      <th>str2</th>\n",
       "    </tr>\n",
       "  </thead>\n",
       "  <tbody>\n",
       "    <tr>\n",
       "      <th>0</th>\n",
       "      <td>1546300800</td>\n",
       "      <td>0.021719</td>\n",
       "      <td>0.789401</td>\n",
       "      <td>0.996341</td>\n",
       "      <td>0.200924</td>\n",
       "      <td>0.516212</td>\n",
       "      <td>X0Z3ISVP38V3DZNYRCERWA8V3RXJ61EM</td>\n",
       "      <td>PPB1TRP11N2XAYG4UZOQ0W38IEO7AQB6</td>\n",
       "    </tr>\n",
       "    <tr>\n",
       "      <th>1</th>\n",
       "      <td>1546300860</td>\n",
       "      <td>0.860443</td>\n",
       "      <td>0.769696</td>\n",
       "      <td>0.365889</td>\n",
       "      <td>0.331651</td>\n",
       "      <td>0.459428</td>\n",
       "      <td>K5KENXUIG7AMG0IJWDSVKK0TGJBAPXKS</td>\n",
       "      <td>JAEDXZVT1HCM4GJIT3N2PD3AJWZ113W9</td>\n",
       "    </tr>\n",
       "    <tr>\n",
       "      <th>2</th>\n",
       "      <td>1546300920</td>\n",
       "      <td>0.548508</td>\n",
       "      <td>0.612747</td>\n",
       "      <td>0.640164</td>\n",
       "      <td>0.839859</td>\n",
       "      <td>0.306226</td>\n",
       "      <td>G2OM7MRASVNJVSLSTMR4MY00QWA85YD1</td>\n",
       "      <td>SGGPHQUY70NI8FABBUZQNGXTOEXNARXQ</td>\n",
       "    </tr>\n",
       "    <tr>\n",
       "      <th>3</th>\n",
       "      <td>1546300980</td>\n",
       "      <td>0.890642</td>\n",
       "      <td>0.209416</td>\n",
       "      <td>0.599862</td>\n",
       "      <td>0.600903</td>\n",
       "      <td>0.428214</td>\n",
       "      <td>HRIEMQBHE1TQK0Z0QV8I1V418ZNSACCX</td>\n",
       "      <td>BIYQKWBN8K0IKPDAE6SY8DU5AB8WMXPH</td>\n",
       "    </tr>\n",
       "    <tr>\n",
       "      <th>4</th>\n",
       "      <td>1546301040</td>\n",
       "      <td>0.969293</td>\n",
       "      <td>0.456791</td>\n",
       "      <td>0.757094</td>\n",
       "      <td>0.338912</td>\n",
       "      <td>0.702087</td>\n",
       "      <td>WOPCVZFZ2HE3Z26OY58NEKMP1HV22LOX</td>\n",
       "      <td>F8MEH2JHMTDRS3QP1CGBXZ7KURC2N19F</td>\n",
       "    </tr>\n",
       "  </tbody>\n",
       "</table>\n",
       "</div>"
      ],
      "text/plain": [
       "         date         a         b         c         d         e  \\\n",
       "0  1546300800  0.021719  0.789401  0.996341  0.200924  0.516212   \n",
       "1  1546300860  0.860443  0.769696  0.365889  0.331651  0.459428   \n",
       "2  1546300920  0.548508  0.612747  0.640164  0.839859  0.306226   \n",
       "3  1546300980  0.890642  0.209416  0.599862  0.600903  0.428214   \n",
       "4  1546301040  0.969293  0.456791  0.757094  0.338912  0.702087   \n",
       "\n",
       "                               str1                              str2  \n",
       "0  X0Z3ISVP38V3DZNYRCERWA8V3RXJ61EM  PPB1TRP11N2XAYG4UZOQ0W38IEO7AQB6  \n",
       "1  K5KENXUIG7AMG0IJWDSVKK0TGJBAPXKS  JAEDXZVT1HCM4GJIT3N2PD3AJWZ113W9  \n",
       "2  G2OM7MRASVNJVSLSTMR4MY00QWA85YD1  SGGPHQUY70NI8FABBUZQNGXTOEXNARXQ  \n",
       "3  HRIEMQBHE1TQK0Z0QV8I1V418ZNSACCX  BIYQKWBN8K0IKPDAE6SY8DU5AB8WMXPH  \n",
       "4  WOPCVZFZ2HE3Z26OY58NEKMP1HV22LOX  F8MEH2JHMTDRS3QP1CGBXZ7KURC2N19F  "
      ]
     },
     "execution_count": 61,
     "metadata": {},
     "output_type": "execute_result"
    }
   ],
   "source": [
    "df_pa.head()"
   ]
  },
  {
   "cell_type": "code",
   "execution_count": 62,
   "metadata": {},
   "outputs": [
    {
     "name": "stdout",
     "output_type": "stream",
     "text": [
      "Wall time: 548 ms\n"
     ]
    }
   ],
   "source": [
    "%%time\n",
    "\n",
    "df_pa_table =pa.Table.from_pandas(df_pa)"
   ]
  },
  {
   "cell_type": "code",
   "execution_count": 63,
   "metadata": {},
   "outputs": [
    {
     "name": "stdout",
     "output_type": "stream",
     "text": [
      "Wall time: 5.3 s\n"
     ]
    }
   ],
   "source": [
    "%%time\n",
    "\n",
    "csv.write_csv(df_pa_table, 'csv_pyarrow.csv')"
   ]
  },
  {
   "cell_type": "code",
   "execution_count": 64,
   "metadata": {},
   "outputs": [
    {
     "name": "stdout",
     "output_type": "stream",
     "text": [
      "Wall time: 39.5 s\n"
     ]
    }
   ],
   "source": [
    "%%time\n",
    "\n",
    "with pa.CompressedOutputStream('csv_pyarrow.csv.gz', 'gzip') as out:\n",
    "    csv.write_csv(df_pa_table, out)"
   ]
  },
  {
   "cell_type": "code",
   "execution_count": 65,
   "metadata": {},
   "outputs": [
    {
     "name": "stdout",
     "output_type": "stream",
     "text": [
      "Wall time: 4.65 s\n"
     ]
    }
   ],
   "source": [
    "%%time\n",
    "\n",
    "df_pa_1=csv.read_csv('csv_pyarrow.csv')"
   ]
  },
  {
   "cell_type": "code",
   "execution_count": 66,
   "metadata": {},
   "outputs": [
    {
     "name": "stdout",
     "output_type": "stream",
     "text": [
      "Wall time: 3.78 s\n"
     ]
    }
   ],
   "source": [
    "%%time\n",
    "\n",
    "df_pa_2=csv.read_csv('csv_pyarrow.csv.gz')"
   ]
  },
  {
   "cell_type": "code",
   "execution_count": 78,
   "metadata": {},
   "outputs": [],
   "source": [
    "@lru_cache(maxsize=4)\n",
    "def fastwrite():\n",
    "    csv.write_csv(df_pa_table, 'csv_pyarrow1.csv')\n",
    "\n",
    "def fastread():\n",
    "        csv.read_csv('csv_pyarrow1.csv')\n"
   ]
  },
  {
   "cell_type": "code",
   "execution_count": 79,
   "metadata": {},
   "outputs": [
    {
     "name": "stdout",
     "output_type": "stream",
     "text": [
      "Wall time: 5.91 s\n"
     ]
    }
   ],
   "source": [
    "%%time\n",
    "fastwrite()"
   ]
  },
  {
   "cell_type": "code",
   "execution_count": 80,
   "metadata": {},
   "outputs": [],
   "source": [
    "%%time\n",
    "fastwrite()"
   ]
  },
  {
   "cell_type": "code",
   "execution_count": 81,
   "metadata": {},
   "outputs": [
    {
     "name": "stdout",
     "output_type": "stream",
     "text": [
      "Wall time: 1.21 s\n"
     ]
    }
   ],
   "source": [
    "%%time\n",
    "fastread()"
   ]
  },
  {
   "cell_type": "code",
   "execution_count": 83,
   "metadata": {},
   "outputs": [
    {
     "name": "stdout",
     "output_type": "stream",
     "text": [
      "Wall time: 3.75 s\n"
     ]
    }
   ],
   "source": [
    "%%time\n",
    "fastread()"
   ]
  },
  {
   "cell_type": "code",
   "execution_count": null,
   "metadata": {},
   "outputs": [],
   "source": []
  }
 ],
 "metadata": {
  "interpreter": {
   "hash": "361af1542a1484207dde1e4a4b917fd1333ad5fed29fc64532e307e10a754c5a"
  },
  "kernelspec": {
   "display_name": "Python 3.7.0 64-bit",
   "language": "python",
   "name": "python3"
  },
  "language_info": {
   "codemirror_mode": {
    "name": "ipython",
    "version": 3
   },
   "file_extension": ".py",
   "mimetype": "text/x-python",
   "name": "python",
   "nbconvert_exporter": "python",
   "pygments_lexer": "ipython3",
   "version": "3.7.0"
  },
  "orig_nbformat": 4
 },
 "nbformat": 4,
 "nbformat_minor": 2
}
